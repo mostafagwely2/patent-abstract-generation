{
 "cells": [
  {
   "cell_type": "code",
   "execution_count": 47,
   "metadata": {},
   "outputs": [],
   "source": [
    "import pandas as pd "
   ]
  },
  {
   "cell_type": "code",
   "execution_count": 48,
   "metadata": {},
   "outputs": [
    {
     "data": {
      "text/html": [
       "<div>\n",
       "<style scoped>\n",
       "    .dataframe tbody tr th:only-of-type {\n",
       "        vertical-align: middle;\n",
       "    }\n",
       "\n",
       "    .dataframe tbody tr th {\n",
       "        vertical-align: top;\n",
       "    }\n",
       "\n",
       "    .dataframe thead th {\n",
       "        text-align: right;\n",
       "    }\n",
       "</style>\n",
       "<table border=\"1\" class=\"dataframe\">\n",
       "  <thead>\n",
       "    <tr style=\"text-align: right;\">\n",
       "      <th></th>\n",
       "      <th>patent_abstract</th>\n",
       "      <th>patent_date</th>\n",
       "      <th>patent_number</th>\n",
       "      <th>patent_title</th>\n",
       "    </tr>\n",
       "  </thead>\n",
       "  <tbody>\n",
       "    <tr>\n",
       "      <th>0</th>\n",
       "      <td>\" A \"\"Barometer\"\" Neuron enhances stability in...</td>\n",
       "      <td>1996-07-09</td>\n",
       "      <td>5535303</td>\n",
       "      <td>\"\"\"Barometer\"\" neuron for a neural network\"</td>\n",
       "    </tr>\n",
       "    <tr>\n",
       "      <th>1</th>\n",
       "      <td>\" This invention is a novel high-speed neural ...</td>\n",
       "      <td>1993-10-19</td>\n",
       "      <td>5255349</td>\n",
       "      <td>\"Electronic neural network for solving \"\"trave...</td>\n",
       "    </tr>\n",
       "    <tr>\n",
       "      <th>2</th>\n",
       "      <td>An optical information processor for use as a ...</td>\n",
       "      <td>1995-01-17</td>\n",
       "      <td>5383042</td>\n",
       "      <td>3 layer liquid crystal neural network with out...</td>\n",
       "    </tr>\n",
       "    <tr>\n",
       "      <th>3</th>\n",
       "      <td>A method and system for intelligent control of...</td>\n",
       "      <td>2001-01-02</td>\n",
       "      <td>6169981</td>\n",
       "      <td>3-brain architecture for an intelligent decisi...</td>\n",
       "    </tr>\n",
       "    <tr>\n",
       "      <th>4</th>\n",
       "      <td>A method and system for intelligent control of...</td>\n",
       "      <td>2003-06-17</td>\n",
       "      <td>6581048</td>\n",
       "      <td>3-brain architecture for an intelligent decisi...</td>\n",
       "    </tr>\n",
       "  </tbody>\n",
       "</table>\n",
       "</div>"
      ],
      "text/plain": [
       "                                     patent_abstract patent_date  \\\n",
       "0  \" A \"\"Barometer\"\" Neuron enhances stability in...  1996-07-09   \n",
       "1  \" This invention is a novel high-speed neural ...  1993-10-19   \n",
       "2  An optical information processor for use as a ...  1995-01-17   \n",
       "3  A method and system for intelligent control of...  2001-01-02   \n",
       "4  A method and system for intelligent control of...  2003-06-17   \n",
       "\n",
       "  patent_number                                       patent_title  \n",
       "0       5535303        \"\"\"Barometer\"\" neuron for a neural network\"  \n",
       "1       5255349  \"Electronic neural network for solving \"\"trave...  \n",
       "2       5383042  3 layer liquid crystal neural network with out...  \n",
       "3       6169981  3-brain architecture for an intelligent decisi...  \n",
       "4       6581048  3-brain architecture for an intelligent decisi...  "
      ]
     },
     "execution_count": 48,
     "metadata": {},
     "output_type": "execute_result"
    }
   ],
   "source": [
    "df = pd.read_csv('./neural_network_patent_query.csv')\n",
    "df.head()"
   ]
  },
  {
   "cell_type": "code",
   "execution_count": 49,
   "metadata": {},
   "outputs": [],
   "source": [
    "# df = df[:10]\n",
    "df = df[['patent_abstract']][:3]"
   ]
  },
  {
   "cell_type": "code",
   "execution_count": 50,
   "metadata": {},
   "outputs": [
    {
     "data": {
      "text/html": [
       "<div>\n",
       "<style scoped>\n",
       "    .dataframe tbody tr th:only-of-type {\n",
       "        vertical-align: middle;\n",
       "    }\n",
       "\n",
       "    .dataframe tbody tr th {\n",
       "        vertical-align: top;\n",
       "    }\n",
       "\n",
       "    .dataframe thead th {\n",
       "        text-align: right;\n",
       "    }\n",
       "</style>\n",
       "<table border=\"1\" class=\"dataframe\">\n",
       "  <thead>\n",
       "    <tr style=\"text-align: right;\">\n",
       "      <th></th>\n",
       "      <th>patent_abstract</th>\n",
       "    </tr>\n",
       "  </thead>\n",
       "  <tbody>\n",
       "    <tr>\n",
       "      <th>0</th>\n",
       "      <td>\" A \"\"Barometer\"\" Neuron enhances stability in...</td>\n",
       "    </tr>\n",
       "    <tr>\n",
       "      <th>1</th>\n",
       "      <td>\" This invention is a novel high-speed neural ...</td>\n",
       "    </tr>\n",
       "    <tr>\n",
       "      <th>2</th>\n",
       "      <td>An optical information processor for use as a ...</td>\n",
       "    </tr>\n",
       "  </tbody>\n",
       "</table>\n",
       "</div>"
      ],
      "text/plain": [
       "                                     patent_abstract\n",
       "0  \" A \"\"Barometer\"\" Neuron enhances stability in...\n",
       "1  \" This invention is a novel high-speed neural ...\n",
       "2  An optical information processor for use as a ..."
      ]
     },
     "execution_count": 50,
     "metadata": {},
     "output_type": "execute_result"
    }
   ],
   "source": [
    "df"
   ]
  },
  {
   "cell_type": "code",
   "execution_count": 51,
   "metadata": {},
   "outputs": [],
   "source": [
    "from keras.preprocessing.text import Tokenizer"
   ]
  },
  {
   "cell_type": "code",
   "execution_count": 52,
   "metadata": {},
   "outputs": [],
   "source": [
    "T = Tokenizer()"
   ]
  },
  {
   "cell_type": "code",
   "execution_count": 53,
   "metadata": {},
   "outputs": [],
   "source": [
    "T.fit_on_texts(df.patent_abstract.values)"
   ]
  },
  {
   "cell_type": "code",
   "execution_count": 54,
   "metadata": {},
   "outputs": [],
   "source": [
    "sequences = T.texts_to_sequences(df.patent_abstract.values)"
   ]
  },
  {
   "cell_type": "code",
   "execution_count": 55,
   "metadata": {},
   "outputs": [],
   "source": [
    "T.word_index[0] = ''"
   ]
  },
  {
   "cell_type": "code",
   "execution_count": 56,
   "metadata": {},
   "outputs": [],
   "source": [
    "maxlen = 15"
   ]
  },
  {
   "cell_type": "code",
   "execution_count": 57,
   "metadata": {},
   "outputs": [],
   "source": [
    "features = [] \n",
    "labels = [] "
   ]
  },
  {
   "cell_type": "code",
   "execution_count": 58,
   "metadata": {},
   "outputs": [],
   "source": [
    "for sequence in sequences:\n",
    "    for i in range(0,len(sequence)-maxlen):\n",
    "        extract = sequence[i:i+maxlen+1]\n",
    "        features.append(extract[0])\n",
    "        labels.append(extract[1:])"
   ]
  },
  {
   "cell_type": "code",
   "execution_count": 59,
   "metadata": {},
   "outputs": [
    {
     "data": {
      "text/plain": [
       "([17, 18, 59, 60, 11, 2, 33, 34, 6, 35, 61, 62, 7, 2, 10], 2)"
      ]
     },
     "execution_count": 59,
     "metadata": {},
     "output_type": "execute_result"
    }
   ],
   "source": [
    "labels[0] , features[0]"
   ]
  },
  {
   "cell_type": "code",
   "execution_count": 60,
   "metadata": {},
   "outputs": [],
   "source": [
    "import numpy as np "
   ]
  },
  {
   "cell_type": "markdown",
   "metadata": {},
   "source": [
    "__convert the features to numpy array__"
   ]
  },
  {
   "cell_type": "code",
   "execution_count": 61,
   "metadata": {},
   "outputs": [],
   "source": [
    "idx_word = {}\n",
    "for word, ind in T.word_index.items():\n",
    "    idx_word[ind] = word"
   ]
  },
  {
   "cell_type": "code",
   "execution_count": 62,
   "metadata": {},
   "outputs": [],
   "source": [
    "def one_h(i):\n",
    "    num_words = 1+ len(idx_word)\n",
    "    one_h_arr = np.zeros((num_words))\n",
    "    one_h_arr[i] = 1\n",
    "    return one_h_arr"
   ]
  },
  {
   "cell_type": "markdown",
   "metadata": {},
   "source": [
    "__convert labels to numpy array and one_hot_encoding__"
   ]
  },
  {
   "cell_type": "code",
   "execution_count": 63,
   "metadata": {},
   "outputs": [],
   "source": [
    "len(labels)\n",
    "temp = np.zeros((len(labels), maxlen, 1+len(idx_word)))\n",
    "for i,d in enumerate(labels):\n",
    "    for j,dd in enumerate(d):\n",
    "        t = one_h(dd)\n",
    "        for l in range(1+len(idx_word)):\n",
    "            temp[i][j][l] = t[l]"
   ]
  },
  {
   "cell_type": "code",
   "execution_count": 64,
   "metadata": {},
   "outputs": [],
   "source": [
    "labels = temp\n",
    "del temp"
   ]
  },
  {
   "cell_type": "code",
   "execution_count": 65,
   "metadata": {},
   "outputs": [],
   "source": [
    "# temp = [] \n",
    "# for i in range(len(labels)):\n",
    "#     temp.append(labels[:][i][:])\n",
    "# labels = list(labels)\n",
    "# features[0] , labels[0] "
   ]
  },
  {
   "cell_type": "code",
   "execution_count": 66,
   "metadata": {},
   "outputs": [
    {
     "data": {
      "text/plain": [
       "(292, 166)"
      ]
     },
     "execution_count": 66,
     "metadata": {},
     "output_type": "execute_result"
    }
   ],
   "source": [
    "labels[:,0].shape"
   ]
  },
  {
   "cell_type": "code",
   "execution_count": 67,
   "metadata": {},
   "outputs": [
    {
     "data": {
      "text/plain": [
       "(292, 166)"
      ]
     },
     "execution_count": 67,
     "metadata": {},
     "output_type": "execute_result"
    }
   ],
   "source": [
    "len(features), len(labels[0][0])"
   ]
  },
  {
   "cell_type": "code",
   "execution_count": 68,
   "metadata": {},
   "outputs": [],
   "source": [
    "\n",
    "from keras.models import Sequential, Model\n",
    "from keras.layers import Dense, Embedding, Masking, LSTM, Dropout, Input"
   ]
  },
  {
   "cell_type": "code",
   "execution_count": 69,
   "metadata": {},
   "outputs": [
    {
     "data": {
      "text/plain": [
       "166"
      ]
     },
     "execution_count": 69,
     "metadata": {},
     "output_type": "execute_result"
    }
   ],
   "source": [
    "num_words = 1+ len(idx_word)\n",
    "num_words"
   ]
  },
  {
   "cell_type": "code",
   "execution_count": 70,
   "metadata": {},
   "outputs": [],
   "source": [
    "inp = Input(shape=(1,))\n",
    "x = Embedding(input_dim=num_words,input_length = 1,output_dim=100)(inp)\n",
    "x = LSTM(64, return_sequences=False, dropout=0.1, recurrent_dropout=0.1)(x)\n",
    "x = Dense(64, activation='relu')(x)\n",
    "x = Dropout(0.5)(x)\n",
    "outs = [Dense(num_words, activation='softmax', name=\"output_{}\".format(_))(x) for _ in range(maxlen)]"
   ]
  },
  {
   "cell_type": "code",
   "execution_count": 71,
   "metadata": {},
   "outputs": [],
   "source": [
    "model = Model(inputs=inp, outputs=outs)"
   ]
  },
  {
   "cell_type": "code",
   "execution_count": 72,
   "metadata": {},
   "outputs": [],
   "source": [
    "model.compile(optimizer='adam', loss='categorical_crossentropy', metrics=['accuracy'])"
   ]
  },
  {
   "cell_type": "code",
   "execution_count": 73,
   "metadata": {},
   "outputs": [],
   "source": [
    "from sklearn.model_selection import train_test_split"
   ]
  },
  {
   "cell_type": "code",
   "execution_count": 74,
   "metadata": {},
   "outputs": [],
   "source": [
    "x_train, x_test, y_train, y_test = train_test_split(features, labels, test_size=0.33)"
   ]
  },
  {
   "cell_type": "code",
   "execution_count": 75,
   "metadata": {},
   "outputs": [
    {
     "data": {
      "text/plain": [
       "(111, (15, 166))"
      ]
     },
     "execution_count": 75,
     "metadata": {},
     "output_type": "execute_result"
    }
   ],
   "source": [
    "x_train[0] , y_train[0].shape"
   ]
  },
  {
   "cell_type": "code",
   "execution_count": 76,
   "metadata": {},
   "outputs": [
    {
     "name": "stdout",
     "output_type": "stream",
     "text": [
      "__________________________________________________________________________________________________\n",
      "Layer (type)                    Output Shape         Param #     Connected to                     \n",
      "==================================================================================================\n",
      "input_2 (InputLayer)            (None, 1)            0                                            \n",
      "__________________________________________________________________________________________________\n",
      "embedding_2 (Embedding)         (None, 1, 100)       16600       input_2[0][0]                    \n",
      "__________________________________________________________________________________________________\n",
      "lstm_2 (LSTM)                   (None, 64)           42240       embedding_2[0][0]                \n",
      "__________________________________________________________________________________________________\n",
      "dense_2 (Dense)                 (None, 64)           4160        lstm_2[0][0]                     \n",
      "__________________________________________________________________________________________________\n",
      "dropout_2 (Dropout)             (None, 64)           0           dense_2[0][0]                    \n",
      "__________________________________________________________________________________________________\n",
      "output_0 (Dense)                (None, 166)          10790       dropout_2[0][0]                  \n",
      "__________________________________________________________________________________________________\n",
      "output_1 (Dense)                (None, 166)          10790       dropout_2[0][0]                  \n",
      "__________________________________________________________________________________________________\n",
      "output_2 (Dense)                (None, 166)          10790       dropout_2[0][0]                  \n",
      "__________________________________________________________________________________________________\n",
      "output_3 (Dense)                (None, 166)          10790       dropout_2[0][0]                  \n",
      "__________________________________________________________________________________________________\n",
      "output_4 (Dense)                (None, 166)          10790       dropout_2[0][0]                  \n",
      "__________________________________________________________________________________________________\n",
      "output_5 (Dense)                (None, 166)          10790       dropout_2[0][0]                  \n",
      "__________________________________________________________________________________________________\n",
      "output_6 (Dense)                (None, 166)          10790       dropout_2[0][0]                  \n",
      "__________________________________________________________________________________________________\n",
      "output_7 (Dense)                (None, 166)          10790       dropout_2[0][0]                  \n",
      "__________________________________________________________________________________________________\n",
      "output_8 (Dense)                (None, 166)          10790       dropout_2[0][0]                  \n",
      "__________________________________________________________________________________________________\n",
      "output_9 (Dense)                (None, 166)          10790       dropout_2[0][0]                  \n",
      "__________________________________________________________________________________________________\n",
      "output_10 (Dense)               (None, 166)          10790       dropout_2[0][0]                  \n",
      "__________________________________________________________________________________________________\n",
      "output_11 (Dense)               (None, 166)          10790       dropout_2[0][0]                  \n",
      "__________________________________________________________________________________________________\n",
      "output_12 (Dense)               (None, 166)          10790       dropout_2[0][0]                  \n",
      "__________________________________________________________________________________________________\n",
      "output_13 (Dense)               (None, 166)          10790       dropout_2[0][0]                  \n",
      "__________________________________________________________________________________________________\n",
      "output_14 (Dense)               (None, 166)          10790       dropout_2[0][0]                  \n",
      "==================================================================================================\n",
      "Total params: 224,850\n",
      "Trainable params: 224,850\n",
      "Non-trainable params: 0\n",
      "__________________________________________________________________________________________________\n"
     ]
    }
   ],
   "source": [
    "model.summary()"
   ]
  },
  {
   "cell_type": "code",
   "execution_count": 77,
   "metadata": {},
   "outputs": [],
   "source": [
    "from keras.callbacks import EarlyStopping, ModelCheckpoint\n",
    "\n",
    "# Create callbacks\n",
    "callbacks = [EarlyStopping(monitor='val_loss', patience=500),\n",
    "             ModelCheckpoint('model.h5', save_best_only=True, \n",
    "                             save_weights_only=False)]"
   ]
  },
  {
   "cell_type": "code",
   "execution_count": 78,
   "metadata": {},
   "outputs": [
    {
     "name": "stdout",
     "output_type": "stream",
     "text": [
      "Train on 195 samples, validate on 97 samples\n",
      "Epoch 1/1\n",
      "195/195 [==============================] - 3s 18ms/step - loss: 76.6778 - output_0_loss: 5.1120 - output_1_loss: 5.1117 - output_2_loss: 5.1128 - output_3_loss: 5.1116 - output_4_loss: 5.1117 - output_5_loss: 5.1118 - output_6_loss: 5.1123 - output_7_loss: 5.1117 - output_8_loss: 5.1118 - output_9_loss: 5.1121 - output_10_loss: 5.1122 - output_11_loss: 5.1113 - output_12_loss: 5.1107 - output_13_loss: 5.1125 - output_14_loss: 5.1116 - output_0_acc: 0.0000e+00 - output_1_acc: 0.0103 - output_2_acc: 0.0000e+00 - output_3_acc: 0.0154 - output_4_acc: 0.0051 - output_5_acc: 0.0000e+00 - output_6_acc: 0.0103 - output_7_acc: 0.0103 - output_8_acc: 0.0103 - output_9_acc: 0.0000e+00 - output_10_acc: 0.0103 - output_11_acc: 0.0000e+00 - output_12_acc: 0.0205 - output_13_acc: 0.0051 - output_14_acc: 0.0051 - val_loss: 76.6718 - val_output_0_loss: 5.1115 - val_output_1_loss: 5.1113 - val_output_2_loss: 5.1124 - val_output_3_loss: 5.1118 - val_output_4_loss: 5.1114 - val_output_5_loss: 5.1114 - val_output_6_loss: 5.1113 - val_output_7_loss: 5.1113 - val_output_8_loss: 5.1115 - val_output_9_loss: 5.1115 - val_output_10_loss: 5.1118 - val_output_11_loss: 5.1110 - val_output_12_loss: 5.1110 - val_output_13_loss: 5.1113 - val_output_14_loss: 5.1114 - val_output_0_acc: 0.0000e+00 - val_output_1_acc: 0.0000e+00 - val_output_2_acc: 0.0000e+00 - val_output_3_acc: 0.0000e+00 - val_output_4_acc: 0.0000e+00 - val_output_5_acc: 0.0000e+00 - val_output_6_acc: 0.0103 - val_output_7_acc: 0.0000e+00 - val_output_8_acc: 0.0206 - val_output_9_acc: 0.0000e+00 - val_output_10_acc: 0.0000e+00 - val_output_11_acc: 0.0103 - val_output_12_acc: 0.0412 - val_output_13_acc: 0.0103 - val_output_14_acc: 0.0103\n"
     ]
    }
   ],
   "source": [
    "\n",
    "history = model.fit(x_train, [y_train[:,i] for i in range(maxlen)], epochs=1, batch_size=800, validation_data=(x_test,[y_test[:,i] for i in range(maxlen)])) \n",
    "#, callbacks=callbacks)\n"
   ]
  },
  {
   "cell_type": "code",
   "execution_count": 79,
   "metadata": {},
   "outputs": [],
   "source": [
    "import matplotlib.pyplot as plt \n",
    "%matplotlib inline "
   ]
  },
  {
   "cell_type": "code",
   "execution_count": 80,
   "metadata": {},
   "outputs": [
    {
     "data": {
      "text/plain": [
       "dict_keys(['val_loss', 'val_output_0_loss', 'val_output_1_loss', 'val_output_2_loss', 'val_output_3_loss', 'val_output_4_loss', 'val_output_5_loss', 'val_output_6_loss', 'val_output_7_loss', 'val_output_8_loss', 'val_output_9_loss', 'val_output_10_loss', 'val_output_11_loss', 'val_output_12_loss', 'val_output_13_loss', 'val_output_14_loss', 'val_output_0_acc', 'val_output_1_acc', 'val_output_2_acc', 'val_output_3_acc', 'val_output_4_acc', 'val_output_5_acc', 'val_output_6_acc', 'val_output_7_acc', 'val_output_8_acc', 'val_output_9_acc', 'val_output_10_acc', 'val_output_11_acc', 'val_output_12_acc', 'val_output_13_acc', 'val_output_14_acc', 'loss', 'output_0_loss', 'output_1_loss', 'output_2_loss', 'output_3_loss', 'output_4_loss', 'output_5_loss', 'output_6_loss', 'output_7_loss', 'output_8_loss', 'output_9_loss', 'output_10_loss', 'output_11_loss', 'output_12_loss', 'output_13_loss', 'output_14_loss', 'output_0_acc', 'output_1_acc', 'output_2_acc', 'output_3_acc', 'output_4_acc', 'output_5_acc', 'output_6_acc', 'output_7_acc', 'output_8_acc', 'output_9_acc', 'output_10_acc', 'output_11_acc', 'output_12_acc', 'output_13_acc', 'output_14_acc'])"
      ]
     },
     "execution_count": 80,
     "metadata": {},
     "output_type": "execute_result"
    }
   ],
   "source": [
    "history.history.keys()\n"
   ]
  },
  {
   "cell_type": "code",
   "execution_count": 81,
   "metadata": {},
   "outputs": [],
   "source": [
    "acc = [] \n",
    "val_acc = [] \n",
    "for i in range(maxlen):\n",
    "    acc.append(history.history['output_{}_acc'.format(i)])\n",
    "    val_acc.append(history.history['val_output_{}_acc'.format(i)])\n"
   ]
  },
  {
   "cell_type": "code",
   "execution_count": 82,
   "metadata": {},
   "outputs": [],
   "source": [
    "val_acc = np.average(np.array(val_acc),axis=0)\n",
    "acc = np.average(np.array(acc),axis=0)"
   ]
  },
  {
   "cell_type": "code",
   "execution_count": 83,
   "metadata": {},
   "outputs": [
    {
     "data": {
      "image/png": "[encoded data removed]",
      "text/plain": [
       "<Figure size 432x288 with 1 Axes>"
      ]
     },
     "metadata": {
      "needs_background": "light"
     },
     "output_type": "display_data"
    }
   ],
   "source": [
    "plt.figure()\n",
    "plt.plot(acc,label=\"acc\")\n",
    "plt.plot(val_acc,label=\"val_acc\")\n",
    "plt.legend();"
   ]
  },
  {
   "cell_type": "code",
   "execution_count": 84,
   "metadata": {},
   "outputs": [],
   "source": [
    "from random import randint "
   ]
  },
  {
   "cell_type": "code",
   "execution_count": 86,
   "metadata": {},
   "outputs": [
    {
     "data": {
      "text/plain": [
       "'whose processor superimposed novel stability modulator multiplier plot plots solves represents weight plot in simultaneously '"
      ]
     },
     "execution_count": 86,
     "metadata": {},
     "output_type": "execute_result"
    }
   ],
   "source": [
    "def idx_word_seq(l,idx_word = idx_word):\n",
    "    a = [] \n",
    "    try:\n",
    "        for i in l:\n",
    "            a.append(idx_word[i])\n",
    "    except TypeError:\n",
    "        return idx_word[l]\n",
    "    return a \n",
    "\n",
    "pred = model.predict([x_test[randint(1,len(x_test))]])\n",
    "a = ''\n",
    "for i in range(maxlen):\n",
    "    a += idx_word_seq(np.argmax(pred[i][0]))\n",
    "    a+= ' '\n",
    "a"
   ]
  },
  {
   "cell_type": "code",
   "execution_count": null,
   "metadata": {},
   "outputs": [],
   "source": []
  }
 ],
 "metadata": {
  "kernelspec": {
   "display_name": "Python 3",
   "language": "python",
   "name": "python3"
  },
  "language_info": {
   "codemirror_mode": {
    "name": "ipython",
    "version": 3
   },
   "file_extension": ".py",
   "mimetype": "text/x-python",
   "name": "python",
   "nbconvert_exporter": "python",
   "pygments_lexer": "ipython3",
   "version": "3.6.7"
  }
 },
 "nbformat": 4,
 "nbformat_minor": 2
}
