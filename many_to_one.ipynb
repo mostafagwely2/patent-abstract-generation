{
 "cells": [
  {
   "cell_type": "code",
   "execution_count": 1,
   "metadata": {},
   "outputs": [],
   "source": [
    "import pandas as pd "
   ]
  },
  {
   "cell_type": "code",
   "execution_count": 2,
   "metadata": {},
   "outputs": [
    {
     "data": {
      "text/html": [
       "<div>\n",
       "<style scoped>\n",
       "    .dataframe tbody tr th:only-of-type {\n",
       "        vertical-align: middle;\n",
       "    }\n",
       "\n",
       "    .dataframe tbody tr th {\n",
       "        vertical-align: top;\n",
       "    }\n",
       "\n",
       "    .dataframe thead th {\n",
       "        text-align: right;\n",
       "    }\n",
       "</style>\n",
       "<table border=\"1\" class=\"dataframe\">\n",
       "  <thead>\n",
       "    <tr style=\"text-align: right;\">\n",
       "      <th></th>\n",
       "      <th>patent_abstract</th>\n",
       "      <th>patent_date</th>\n",
       "      <th>patent_number</th>\n",
       "      <th>patent_title</th>\n",
       "    </tr>\n",
       "  </thead>\n",
       "  <tbody>\n",
       "    <tr>\n",
       "      <th>0</th>\n",
       "      <td>\" A \"\"Barometer\"\" Neuron enhances stability in...</td>\n",
       "      <td>1996-07-09</td>\n",
       "      <td>5535303</td>\n",
       "      <td>\"\"\"Barometer\"\" neuron for a neural network\"</td>\n",
       "    </tr>\n",
       "    <tr>\n",
       "      <th>1</th>\n",
       "      <td>\" This invention is a novel high-speed neural ...</td>\n",
       "      <td>1993-10-19</td>\n",
       "      <td>5255349</td>\n",
       "      <td>\"Electronic neural network for solving \"\"trave...</td>\n",
       "    </tr>\n",
       "    <tr>\n",
       "      <th>2</th>\n",
       "      <td>An optical information processor for use as a ...</td>\n",
       "      <td>1995-01-17</td>\n",
       "      <td>5383042</td>\n",
       "      <td>3 layer liquid crystal neural network with out...</td>\n",
       "    </tr>\n",
       "    <tr>\n",
       "      <th>3</th>\n",
       "      <td>A method and system for intelligent control of...</td>\n",
       "      <td>2001-01-02</td>\n",
       "      <td>6169981</td>\n",
       "      <td>3-brain architecture for an intelligent decisi...</td>\n",
       "    </tr>\n",
       "    <tr>\n",
       "      <th>4</th>\n",
       "      <td>A method and system for intelligent control of...</td>\n",
       "      <td>2003-06-17</td>\n",
       "      <td>6581048</td>\n",
       "      <td>3-brain architecture for an intelligent decisi...</td>\n",
       "    </tr>\n",
       "  </tbody>\n",
       "</table>\n",
       "</div>"
      ],
      "text/plain": [
       "                                     patent_abstract patent_date  \\\n",
       "0  \" A \"\"Barometer\"\" Neuron enhances stability in...  1996-07-09   \n",
       "1  \" This invention is a novel high-speed neural ...  1993-10-19   \n",
       "2  An optical information processor for use as a ...  1995-01-17   \n",
       "3  A method and system for intelligent control of...  2001-01-02   \n",
       "4  A method and system for intelligent control of...  2003-06-17   \n",
       "\n",
       "  patent_number                                       patent_title  \n",
       "0       5535303        \"\"\"Barometer\"\" neuron for a neural network\"  \n",
       "1       5255349  \"Electronic neural network for solving \"\"trave...  \n",
       "2       5383042  3 layer liquid crystal neural network with out...  \n",
       "3       6169981  3-brain architecture for an intelligent decisi...  \n",
       "4       6581048  3-brain architecture for an intelligent decisi...  "
      ]
     },
     "execution_count": 2,
     "metadata": {},
     "output_type": "execute_result"
    }
   ],
   "source": [
    "df = pd.read_csv('./neural_network_patent_query.csv')\n",
    "df.head()"
   ]
  },
  {
   "cell_type": "code",
   "execution_count": 3,
   "metadata": {},
   "outputs": [],
   "source": [
    "# df = df[:10]\n",
    "df = df[['patent_abstract']][:10]"
   ]
  },
  {
   "cell_type": "code",
   "execution_count": 4,
   "metadata": {},
   "outputs": [
    {
     "data": {
      "text/html": [
       "<div>\n",
       "<style scoped>\n",
       "    .dataframe tbody tr th:only-of-type {\n",
       "        vertical-align: middle;\n",
       "    }\n",
       "\n",
       "    .dataframe tbody tr th {\n",
       "        vertical-align: top;\n",
       "    }\n",
       "\n",
       "    .dataframe thead th {\n",
       "        text-align: right;\n",
       "    }\n",
       "</style>\n",
       "<table border=\"1\" class=\"dataframe\">\n",
       "  <thead>\n",
       "    <tr style=\"text-align: right;\">\n",
       "      <th></th>\n",
       "      <th>patent_abstract</th>\n",
       "    </tr>\n",
       "  </thead>\n",
       "  <tbody>\n",
       "    <tr>\n",
       "      <th>0</th>\n",
       "      <td>\" A \"\"Barometer\"\" Neuron enhances stability in...</td>\n",
       "    </tr>\n",
       "    <tr>\n",
       "      <th>1</th>\n",
       "      <td>\" This invention is a novel high-speed neural ...</td>\n",
       "    </tr>\n",
       "    <tr>\n",
       "      <th>2</th>\n",
       "      <td>An optical information processor for use as a ...</td>\n",
       "    </tr>\n",
       "    <tr>\n",
       "      <th>3</th>\n",
       "      <td>A method and system for intelligent control of...</td>\n",
       "    </tr>\n",
       "    <tr>\n",
       "      <th>4</th>\n",
       "      <td>A method and system for intelligent control of...</td>\n",
       "    </tr>\n",
       "    <tr>\n",
       "      <th>5</th>\n",
       "      <td>\" An unknown object is non-destructively and q...</td>\n",
       "    </tr>\n",
       "    <tr>\n",
       "      <th>6</th>\n",
       "      <td>\" An unknown object is non-destructively and q...</td>\n",
       "    </tr>\n",
       "    <tr>\n",
       "      <th>7</th>\n",
       "      <td>A security system comprised of a device for mo...</td>\n",
       "    </tr>\n",
       "    <tr>\n",
       "      <th>8</th>\n",
       "      <td>A target recognition system and method wherein...</td>\n",
       "    </tr>\n",
       "    <tr>\n",
       "      <th>9</th>\n",
       "      <td>A target recognition system and method wherein...</td>\n",
       "    </tr>\n",
       "  </tbody>\n",
       "</table>\n",
       "</div>"
      ],
      "text/plain": [
       "                                     patent_abstract\n",
       "0  \" A \"\"Barometer\"\" Neuron enhances stability in...\n",
       "1  \" This invention is a novel high-speed neural ...\n",
       "2  An optical information processor for use as a ...\n",
       "3  A method and system for intelligent control of...\n",
       "4  A method and system for intelligent control of...\n",
       "5  \" An unknown object is non-destructively and q...\n",
       "6  \" An unknown object is non-destructively and q...\n",
       "7  A security system comprised of a device for mo...\n",
       "8  A target recognition system and method wherein...\n",
       "9  A target recognition system and method wherein..."
      ]
     },
     "execution_count": 4,
     "metadata": {},
     "output_type": "execute_result"
    }
   ],
   "source": [
    "df"
   ]
  },
  {
   "cell_type": "code",
   "execution_count": 5,
   "metadata": {},
   "outputs": [
    {
     "name": "stderr",
     "output_type": "stream",
     "text": [
      "Using TensorFlow backend.\n"
     ]
    }
   ],
   "source": [
    "from keras.preprocessing.text import Tokenizer"
   ]
  },
  {
   "cell_type": "code",
   "execution_count": 6,
   "metadata": {},
   "outputs": [],
   "source": [
    "T = Tokenizer()"
   ]
  },
  {
   "cell_type": "code",
   "execution_count": 7,
   "metadata": {},
   "outputs": [],
   "source": [
    "T.fit_on_texts(df.patent_abstract.values)"
   ]
  },
  {
   "cell_type": "code",
   "execution_count": 8,
   "metadata": {},
   "outputs": [],
   "source": [
    "sequences = T.texts_to_sequences(df.patent_abstract.values)"
   ]
  },
  {
   "cell_type": "code",
   "execution_count": 9,
   "metadata": {},
   "outputs": [
    {
     "data": {
      "text/plain": [
       "{'the': 1,\n",
       " 'a': 2,\n",
       " 'of': 3,\n",
       " 'and': 4,\n",
       " 'in': 5,\n",
       " 'to': 6,\n",
       " 'is': 7,\n",
       " 'for': 8,\n",
       " 'an': 9,\n",
       " 'array': 10,\n",
       " 'system': 11,\n",
       " 'set': 12,\n",
       " 'neural': 13,\n",
       " 'network': 14,\n",
       " 'target': 15,\n",
       " 'computer': 16,\n",
       " 'unknown': 17,\n",
       " 'object': 18,\n",
       " 'field': 19,\n",
       " 'which': 20,\n",
       " 'transducer': 21,\n",
       " 'data': 22,\n",
       " 'detector': 23,\n",
       " 'state': 24,\n",
       " 'or': 25,\n",
       " 'each': 26,\n",
       " 'area': 27,\n",
       " 'patterns': 28,\n",
       " 'modulator': 29,\n",
       " 'scattered': 30,\n",
       " 'as': 31,\n",
       " 'desired': 32,\n",
       " 'method': 33,\n",
       " 'control': 34,\n",
       " 'source': 35,\n",
       " 'spatial': 36,\n",
       " 'are': 37,\n",
       " 'at': 38,\n",
       " 'by': 39,\n",
       " 'three': 40,\n",
       " 'response': 41,\n",
       " 'device': 42,\n",
       " 'undesired': 43,\n",
       " 'aspect': 44,\n",
       " 'feature': 45,\n",
       " 'classification': 46,\n",
       " 'track': 47,\n",
       " 'functions': 48,\n",
       " 'these': 49,\n",
       " 'processor': 50,\n",
       " 'input': 51,\n",
       " 'between': 52,\n",
       " 'from': 53,\n",
       " 'dimensional': 54,\n",
       " 'material': 55,\n",
       " 'parameters': 56,\n",
       " 'training': 57,\n",
       " 'inhibition': 58,\n",
       " 'output': 59,\n",
       " '1': 60,\n",
       " 'two': 61,\n",
       " 'vector': 62,\n",
       " 'weight': 63,\n",
       " 'through': 64,\n",
       " 'using': 65,\n",
       " 'include': 66,\n",
       " 'real': 67,\n",
       " 'time': 68,\n",
       " 'e': 69,\n",
       " 'distribution': 70,\n",
       " 'constitutive': 71,\n",
       " 'multi': 72,\n",
       " 'element': 73,\n",
       " 'pattern': 74,\n",
       " 'mode': 75,\n",
       " 'trained': 76,\n",
       " 'transfer': 77,\n",
       " 'involved': 78,\n",
       " 'surveillance': 79,\n",
       " 'recognition': 80,\n",
       " 'angle': 81,\n",
       " 'vectors': 82,\n",
       " 'useful': 83,\n",
       " 'valid': 84,\n",
       " 'comparisons': 85,\n",
       " 'barometer': 86,\n",
       " 'neuron': 87,\n",
       " 'that': 88,\n",
       " 'when': 89,\n",
       " 'scan': 90,\n",
       " 'plot': 91,\n",
       " 'perfect': 92,\n",
       " 'level': 93,\n",
       " 'signal': 94,\n",
       " 'near': 95,\n",
       " 'based': 96,\n",
       " 'other': 97,\n",
       " 'comprises': 98,\n",
       " 'embodiment': 99,\n",
       " 'such': 100,\n",
       " 'be': 101,\n",
       " 'optical': 102,\n",
       " 'light': 103,\n",
       " '3': 104,\n",
       " '5': 105,\n",
       " 'with': 106,\n",
       " 'evaluated': 107,\n",
       " 'signals': 108,\n",
       " 'simulated': 109,\n",
       " 'known': 110,\n",
       " 'another': 111,\n",
       " 'produced': 112,\n",
       " 'monitoring': 113,\n",
       " 'under': 114,\n",
       " 'images': 115,\n",
       " 'processing': 116,\n",
       " 'whether': 117,\n",
       " 'collected': 118,\n",
       " 'while': 119,\n",
       " 'reference': 120,\n",
       " 'inputs': 121,\n",
       " 'pair': 122,\n",
       " 'this': 123,\n",
       " 'novel': 124,\n",
       " 'incorporates': 125,\n",
       " 'problem': 126,\n",
       " 'information': 127,\n",
       " 'matrix': 128,\n",
       " 'beam': 129,\n",
       " 'passes': 130,\n",
       " 'onto': 131,\n",
       " 'error': 132,\n",
       " 'then': 133,\n",
       " 'accordance': 134,\n",
       " 'difference': 135,\n",
       " 'intelligent': 136,\n",
       " 'external': 137,\n",
       " 'devices': 138,\n",
       " 'mammalian': 139,\n",
       " 'brain': 140,\n",
       " 'like': 141,\n",
       " 'structure': 142,\n",
       " 'having': 143,\n",
       " 'parts': 144,\n",
       " 'implemented': 145,\n",
       " 'extension': 146,\n",
       " 'model': 147,\n",
       " 'adaptive': 148,\n",
       " 'critic': 149,\n",
       " 'design': 150,\n",
       " 'applicable': 151,\n",
       " 'g': 152,\n",
       " 'robotic': 153,\n",
       " 'distributed': 154,\n",
       " 'additional': 155,\n",
       " 'uses': 156,\n",
       " 'visualization': 157,\n",
       " 'mining': 158,\n",
       " 'tasks': 159,\n",
       " 'requiring': 160,\n",
       " 'complex': 161,\n",
       " 'analysis': 162,\n",
       " 'inter': 163,\n",
       " 'relationships': 164,\n",
       " 'non': 165,\n",
       " 'destructively': 166,\n",
       " 'quantitatively': 167,\n",
       " 'located': 168,\n",
       " 'exposes': 169,\n",
       " 'pursuant': 170,\n",
       " 'electrical': 171,\n",
       " 'transducers': 172,\n",
       " 'will': 173,\n",
       " 'cause': 174,\n",
       " 'scattering': 175,\n",
       " 'thus': 176,\n",
       " 'presenting': 177,\n",
       " 'objects': 178,\n",
       " 'operate': 179,\n",
       " 'modes': 180,\n",
       " 'initial': 181,\n",
       " 'configured': 182,\n",
       " 'process': 183,\n",
       " 'utilizes': 184,\n",
       " 'its': 185,\n",
       " 'configuration': 186,\n",
       " 'application': 187,\n",
       " 'generate': 188,\n",
       " 'estimates': 189,\n",
       " 'security': 190,\n",
       " 'comprised': 191,\n",
       " 'produces': 192,\n",
       " 'includes': 193,\n",
       " 'video': 194,\n",
       " 'next': 195,\n",
       " 'wherein': 196,\n",
       " 'only': 197,\n",
       " 'amplitude': 198,\n",
       " 'i': 199,\n",
       " 'coherent': 200,\n",
       " 'interrogated': 201,\n",
       " 'ignored': 202,\n",
       " 'within': 203,\n",
       " 'angular': 204,\n",
       " 'segmentation': 205,\n",
       " 'library': 206,\n",
       " 'without': 207,\n",
       " 'degrading': 208,\n",
       " 'performance': 209,\n",
       " 'observed': 210,\n",
       " 'signature': 211,\n",
       " 'characteristics': 212,\n",
       " 'various': 213,\n",
       " 'angles': 214,\n",
       " 'roll': 215,\n",
       " 'pitch': 216,\n",
       " 'yaw': 217,\n",
       " 'motions': 218,\n",
       " 'anticipated': 219,\n",
       " 'provided': 220,\n",
       " 'sets': 221,\n",
       " 'forms': 222,\n",
       " 'class': 223,\n",
       " 'all': 224,\n",
       " 'sea': 225,\n",
       " 'states': 226,\n",
       " 'especially': 227,\n",
       " 'calm': 228,\n",
       " 'littoral': 229,\n",
       " 'waters': 230,\n",
       " 'over': 231,\n",
       " 'least': 232,\n",
       " '30': 233,\n",
       " 'degrees': 234,\n",
       " 'enhances': 235,\n",
       " 'stability': 236,\n",
       " 'used': 237,\n",
       " 'assigns': 238,\n",
       " 'sensor': 239,\n",
       " 'plots': 240,\n",
       " 'predicted': 241,\n",
       " 'positions': 242,\n",
       " 'association': 243,\n",
       " 'situation': 244,\n",
       " 'bench': 245,\n",
       " 'mark': 246,\n",
       " 'node': 247,\n",
       " 'equates': 248,\n",
       " 'superimposed': 249,\n",
       " 'zero': 250,\n",
       " 'distance': 251,\n",
       " 'pairing': 252,\n",
       " 'has': 253,\n",
       " 'measured': 254,\n",
       " 'responds': 255,\n",
       " 'compares': 256,\n",
       " 'against': 257,\n",
       " 'generates': 258,\n",
       " 'supplied': 259,\n",
       " 'excitation': 260,\n",
       " 'adjusts': 261,\n",
       " 'value': 262,\n",
       " '0': 263,\n",
       " 'invention': 264,\n",
       " 'high': 265,\n",
       " 'speed': 266,\n",
       " 'solving': 267,\n",
       " 'traveling': 268,\n",
       " 'salesman': 269,\n",
       " 'global': 270,\n",
       " 'optimization': 271,\n",
       " 'problems': 272,\n",
       " 'it': 273,\n",
       " 'hybrid': 274,\n",
       " 'architecture': 275,\n",
       " 'employing': 276,\n",
       " 'binary': 277,\n",
       " 'synaptic': 278,\n",
       " 'whose': 279,\n",
       " 'fixed': 280,\n",
       " 'rules': 281,\n",
       " 'number': 282,\n",
       " 'cities': 283,\n",
       " 'visited': 284,\n",
       " 'prompted': 285,\n",
       " 'analog': 286,\n",
       " 'voltages': 287,\n",
       " 'representing': 288,\n",
       " 'variables': 289,\n",
       " 'distances': 290,\n",
       " 'interconnected': 291,\n",
       " 'feedback': 292,\n",
       " 'networks': 293,\n",
       " 'solves': 294,\n",
       " 'part': 295,\n",
       " 'independently': 296,\n",
       " 'simultaneously': 297,\n",
       " 'yet': 298,\n",
       " 'exchange': 299,\n",
       " 'dynamically': 300,\n",
       " 'use': 301,\n",
       " 'multiplier': 302,\n",
       " 'optically': 303,\n",
       " 'addressed': 304,\n",
       " 'read': 305,\n",
       " '10': 306,\n",
       " 'combined': 307,\n",
       " 'controlled': 308,\n",
       " 'modulates': 309,\n",
       " 'update': 310,\n",
       " '11': 311,\n",
       " 'represents': 312,\n",
       " 'attenuation': 313,\n",
       " 'values': 314,\n",
       " 'updated': 315,\n",
       " 'radiation': 316,\n",
       " 'incident': 317,\n",
       " 'thereon': 318,\n",
       " 'during': 319,\n",
       " 'updating': 320,\n",
       " 'related': 321,\n",
       " 'computation': 322,\n",
       " 'determined': 323,\n",
       " 'evaluating': 324,\n",
       " 'on': 325,\n",
       " 'simulations': 326,\n",
       " 'biot': 327,\n",
       " 'poro': 328,\n",
       " 'elastic': 329,\n",
       " 'estimated': 330,\n",
       " 'spaced': 331,\n",
       " 'mutually': 332,\n",
       " 'facing': 333,\n",
       " 'relation': 334,\n",
       " 'either': 335,\n",
       " 'positioned': 336,\n",
       " 'also': 337,\n",
       " 'determine': 338,\n",
       " 'trainable': 339,\n",
       " 'learn': 340,\n",
       " 'preferred': 341,\n",
       " 'camera': 342,\n",
       " 'simulating': 343,\n",
       " 'determining': 344,\n",
       " 'steps': 345,\n",
       " 'collecting': 346,\n",
       " 'about': 347,\n",
       " 'defines': 348,\n",
       " 'essentially': 349,\n",
       " 'correctly': 350,\n",
       " 'identify': 351,\n",
       " 'performing': 352,\n",
       " 'determines': 353,\n",
       " 'arbitrary': 354,\n",
       " 'plurality': 355,\n",
       " 'range': 356,\n",
       " 'resolution': 357,\n",
       " 'cells': 358,\n",
       " 'along': 359,\n",
       " 'radar': 360,\n",
       " 'line': 361,\n",
       " 'sight': 362,\n",
       " 'path': 363}"
      ]
     },
     "execution_count": 9,
     "metadata": {},
     "output_type": "execute_result"
    }
   ],
   "source": [
    "T.word_index"
   ]
  },
  {
   "cell_type": "code",
   "execution_count": 10,
   "metadata": {},
   "outputs": [],
   "source": [
    "maxlen = 15"
   ]
  },
  {
   "cell_type": "code",
   "execution_count": 11,
   "metadata": {},
   "outputs": [],
   "source": [
    "features = [] \n",
    "labels = [] "
   ]
  },
  {
   "cell_type": "code",
   "execution_count": 12,
   "metadata": {},
   "outputs": [],
   "source": [
    "for sequence in sequences:\n",
    "    for i in range(maxlen,len(sequence)+1):\n",
    "        extract = sequence[i-maxlen: i+1]\n",
    "        features.append(extract[:-1])\n",
    "        labels.append(extract[-1])"
   ]
  },
  {
   "cell_type": "code",
   "execution_count": 13,
   "metadata": {},
   "outputs": [],
   "source": [
    "# labels , features"
   ]
  },
  {
   "cell_type": "code",
   "execution_count": 14,
   "metadata": {},
   "outputs": [],
   "source": [
    "import numpy as np "
   ]
  },
  {
   "cell_type": "markdown",
   "metadata": {},
   "source": [
    "__convert the features to numpy array__"
   ]
  },
  {
   "cell_type": "code",
   "execution_count": 15,
   "metadata": {},
   "outputs": [],
   "source": [
    "temp = np.zeros((len(features),  maxlen), dtype='int')"
   ]
  },
  {
   "cell_type": "code",
   "execution_count": 16,
   "metadata": {},
   "outputs": [],
   "source": [
    "for i,d in enumerate(features):\n",
    "    for j,dd in enumerate(d):\n",
    "        temp[i][j] = dd"
   ]
  },
  {
   "cell_type": "code",
   "execution_count": 17,
   "metadata": {},
   "outputs": [
    {
     "data": {
      "text/plain": [
       "array([  2,  86,  87, 235, 236,   5,   2,  13,  14,  11,  88,  89, 237,\n",
       "        31,   2])"
      ]
     },
     "execution_count": 17,
     "metadata": {},
     "output_type": "execute_result"
    }
   ],
   "source": [
    "temp[0] "
   ]
  },
  {
   "cell_type": "code",
   "execution_count": 18,
   "metadata": {},
   "outputs": [
    {
     "data": {
      "text/plain": [
       "[2, 86, 87, 235, 236, 5, 2, 13, 14, 11, 88, 89, 237, 31, 2]"
      ]
     },
     "execution_count": 18,
     "metadata": {},
     "output_type": "execute_result"
    }
   ],
   "source": [
    "features[0]"
   ]
  },
  {
   "cell_type": "code",
   "execution_count": 19,
   "metadata": {},
   "outputs": [],
   "source": [
    "features = temp "
   ]
  },
  {
   "cell_type": "code",
   "execution_count": 20,
   "metadata": {},
   "outputs": [],
   "source": [
    "del temp"
   ]
  },
  {
   "cell_type": "code",
   "execution_count": 21,
   "metadata": {},
   "outputs": [
    {
     "data": {
      "text/plain": [
       "(array([  2,  86,  87, 235, 236,   5,   2,  13,  14,  11,  88,  89, 237,\n",
       "         31,   2]), 47)"
      ]
     },
     "execution_count": 21,
     "metadata": {},
     "output_type": "execute_result"
    }
   ],
   "source": [
    "features[0] , labels[0]"
   ]
  },
  {
   "cell_type": "code",
   "execution_count": 22,
   "metadata": {},
   "outputs": [],
   "source": [
    "idx_word = {}\n",
    "for word, ind in T.word_index.items():\n",
    "    idx_word[ind] = word"
   ]
  },
  {
   "cell_type": "code",
   "execution_count": 23,
   "metadata": {},
   "outputs": [
    {
     "name": "stdout",
     "output_type": "stream",
     "text": [
      "or\n",
      "reference\n",
      "system\n",
      "node\n",
      "that\n",
      "equates\n",
      "a\n",
      "superimposed\n",
      "plot\n",
      "and\n",
      "track\n",
      "to\n",
      "a\n",
      "zero\n",
      "distance\n",
      "as\n"
     ]
    }
   ],
   "source": [
    "for i in features[40]:\n",
    "    print(idx_word[i])\n",
    "print(idx_word[labels[40]])"
   ]
  },
  {
   "cell_type": "markdown",
   "metadata": {},
   "source": [
    "__convert labels to numpy array and one_hot_encoding__"
   ]
  },
  {
   "cell_type": "code",
   "execution_count": 24,
   "metadata": {},
   "outputs": [],
   "source": [
    "len(labels)\n",
    "temp = np.zeros((len(labels), 1+len(idx_word)))\n",
    "for i,d in enumerate(labels):\n",
    "    temp[i][d] = 1\n"
   ]
  },
  {
   "cell_type": "code",
   "execution_count": 25,
   "metadata": {},
   "outputs": [],
   "source": [
    "labels = temp\n",
    "del temp"
   ]
  },
  {
   "cell_type": "code",
   "execution_count": 26,
   "metadata": {},
   "outputs": [],
   "source": [
    "labels[0];"
   ]
  },
  {
   "cell_type": "code",
   "execution_count": 27,
   "metadata": {},
   "outputs": [],
   "source": [
    "\n",
    "from keras.models import Sequential\n",
    "from keras.layers import Dense, Embedding, Masking, LSTM, Dropout"
   ]
  },
  {
   "cell_type": "code",
   "execution_count": 28,
   "metadata": {},
   "outputs": [
    {
     "data": {
      "text/plain": [
       "364"
      ]
     },
     "execution_count": 28,
     "metadata": {},
     "output_type": "execute_result"
    }
   ],
   "source": [
    "num_words = 1+ len(idx_word)\n",
    "num_words"
   ]
  },
  {
   "cell_type": "code",
   "execution_count": 29,
   "metadata": {},
   "outputs": [],
   "source": [
    "model = Sequential()\n",
    "model.add(Embedding(input_dim=num_words,input_length = maxlen,output_dim=100))\n",
    "model.add(LSTM(64, return_sequences=False, dropout=0.1, recurrent_dropout=0.1))\n",
    "model.add(Dense(64, activation='relu'))\n",
    "model.add(Dropout(0.5))\n",
    "model.add(Dense(num_words, activation='softmax'))"
   ]
  },
  {
   "cell_type": "code",
   "execution_count": 30,
   "metadata": {},
   "outputs": [],
   "source": [
    "model.compile(optimizer='adam', loss='categorical_crossentropy', metrics=['accuracy'])"
   ]
  },
  {
   "cell_type": "code",
   "execution_count": 31,
   "metadata": {},
   "outputs": [],
   "source": [
    "from sklearn.model_selection import train_test_split"
   ]
  },
  {
   "cell_type": "code",
   "execution_count": 32,
   "metadata": {},
   "outputs": [],
   "source": [
    "x_train, x_test, y_train, y_test = train_test_split(features, labels, test_size=0.33)"
   ]
  },
  {
   "cell_type": "code",
   "execution_count": 33,
   "metadata": {},
   "outputs": [
    {
     "data": {
      "text/plain": [
       "((845, 15), 364)"
      ]
     },
     "execution_count": 33,
     "metadata": {},
     "output_type": "execute_result"
    }
   ],
   "source": [
    "x_train.shape , len(y_train[0])"
   ]
  },
  {
   "cell_type": "code",
   "execution_count": 34,
   "metadata": {},
   "outputs": [
    {
     "name": "stdout",
     "output_type": "stream",
     "text": [
      "_________________________________________________________________\n",
      "Layer (type)                 Output Shape              Param #   \n",
      "=================================================================\n",
      "embedding_1 (Embedding)      (None, 15, 100)           36400     \n",
      "_________________________________________________________________\n",
      "lstm_1 (LSTM)                (None, 64)                42240     \n",
      "_________________________________________________________________\n",
      "dense_1 (Dense)              (None, 64)                4160      \n",
      "_________________________________________________________________\n",
      "dropout_1 (Dropout)          (None, 64)                0         \n",
      "_________________________________________________________________\n",
      "dense_2 (Dense)              (None, 364)               23660     \n",
      "=================================================================\n",
      "Total params: 106,460\n",
      "Trainable params: 106,460\n",
      "Non-trainable params: 0\n",
      "_________________________________________________________________\n"
     ]
    }
   ],
   "source": [
    "model.summary()"
   ]
  },
  {
   "cell_type": "code",
   "execution_count": 35,
   "metadata": {},
   "outputs": [],
   "source": [
    "from keras.callbacks import EarlyStopping, ModelCheckpoint\n",
    "\n",
    "# Create callbacks\n",
    "callbacks = [EarlyStopping(monitor='val_loss', patience=10),\n",
    "             ModelCheckpoint('model.h5', save_best_only=True, \n",
    "                             save_weights_only=False)]"
   ]
  },
  {
   "cell_type": "code",
   "execution_count": 39,
   "metadata": {},
   "outputs": [
    {
     "name": "stdout",
     "output_type": "stream",
     "text": [
      "time 0.03989173968633016 min\n"
     ]
    }
   ],
   "source": [
    "# history = model.fit(x_train, y_train, epochs=10, validation_data=(x_test,y_test),batch_size=800,\n",
    "#                     callbacks=callbacks)\n",
    "from time import time \n",
    "tic = time()\n",
    "history = model.fit(x_train, y_train, epochs=1, verbose=0, validation_data=(x_test,y_test),batch_size=800)\n",
    "#                     callbacks=callbacks)\n",
    "print(\"time {} min\".format((time() - tic)/60.0))"
   ]
  },
  {
   "cell_type": "code",
   "execution_count": 40,
   "metadata": {},
   "outputs": [],
   "source": [
    "import matplotlib.pyplot as plt \n",
    "%matplotlib inline "
   ]
  },
  {
   "cell_type": "code",
   "execution_count": 41,
   "metadata": {},
   "outputs": [
    {
     "data": {
      "text/plain": [
       "dict_keys(['val_loss', 'val_acc', 'loss', 'acc'])"
      ]
     },
     "execution_count": 41,
     "metadata": {},
     "output_type": "execute_result"
    }
   ],
   "source": [
    "history.history.keys()"
   ]
  },
  {
   "cell_type": "code",
   "execution_count": 42,
   "metadata": {},
   "outputs": [
    {
     "data": {
      "image/png": "[encoded data removed]",
      "text/plain": [
       "<Figure size 432x288 with 1 Axes>"
      ]
     },
     "metadata": {
      "needs_background": "light"
     },
     "output_type": "display_data"
    }
   ],
   "source": [
    "plt.figure()\n",
    "plt.plot(history.history['acc'],label='train acc')\n",
    "plt.plot(history.history['val_acc'],label='val acc')\n",
    "plt.legend();"
   ]
  },
  {
   "cell_type": "code",
   "execution_count": 45,
   "metadata": {},
   "outputs": [],
   "source": [
    "model.predict(x_test[0:1,:]);"
   ]
  },
  {
   "cell_type": "code",
   "execution_count": 46,
   "metadata": {},
   "outputs": [
    {
     "data": {
      "text/plain": [
       "(1, 15)"
      ]
     },
     "execution_count": 46,
     "metadata": {},
     "output_type": "execute_result"
    }
   ],
   "source": [
    "x_test[0:1,:].shape"
   ]
  },
  {
   "cell_type": "code",
   "execution_count": 47,
   "metadata": {},
   "outputs": [],
   "source": [
    "def idx_word_seq(l,idx_word = idx_word):\n",
    "    a = [] \n",
    "    for i in l:\n",
    "        a.append(idx_word[i])\n",
    "    return a "
   ]
  },
  {
   "cell_type": "code",
   "execution_count": 212,
   "metadata": {},
   "outputs": [],
   "source": [
    "from random import randint\n"
   ]
  },
  {
   "cell_type": "code",
   "execution_count": 213,
   "metadata": {},
   "outputs": [
    {
     "data": {
      "text/plain": [
       "(['embodiment',\n",
       "  'the',\n",
       "  'monitoring',\n",
       "  'device',\n",
       "  'includes',\n",
       "  'a',\n",
       "  'video',\n",
       "  'camera',\n",
       "  'which',\n",
       "  'produces',\n",
       "  'video',\n",
       "  'images',\n",
       "  'of',\n",
       "  'the',\n",
       "  'area'],\n",
       " 15)"
      ]
     },
     "execution_count": 213,
     "metadata": {},
     "output_type": "execute_result"
    }
   ],
   "source": [
    "trigger = idx_word_seq(x_test[randint(0,len(x_test)-1),:].tolist())\n",
    "trigger, len(trigger)\n"
   ]
  },
  {
   "cell_type": "code",
   "execution_count": 214,
   "metadata": {},
   "outputs": [
    {
     "data": {
      "text/plain": [
       "(1, 15)"
      ]
     },
     "execution_count": 214,
     "metadata": {},
     "output_type": "execute_result"
    }
   ],
   "source": [
    "trigger = np.array(list(T.texts_to_sequences(trigger))).reshape(1,-1)\n",
    "trigger.shape"
   ]
  },
  {
   "cell_type": "code",
   "execution_count": 215,
   "metadata": {},
   "outputs": [],
   "source": [
    "conclusion = trigger"
   ]
  },
  {
   "cell_type": "code",
   "execution_count": 216,
   "metadata": {},
   "outputs": [],
   "source": [
    "for i in range(16): # predict 16 words\n",
    "    x = model.predict(trigger)\n",
    "    x = np.argsort(x)[0][:3]\n",
    "\n",
    "    x = np.random.choice(x,1)[0]\n",
    "    conclusion = np.append(conclusion,x).reshape(1,-1)\n",
    "    trigger = conclusion[0][-15:].reshape(1,-1)"
   ]
  },
  {
   "cell_type": "code",
   "execution_count": 219,
   "metadata": {},
   "outputs": [
    {
     "data": {
      "text/plain": [
       "'networks invention invention updating relation sensor invention sensor angles accordance plurality scan scan also other '"
      ]
     },
     "execution_count": 219,
     "metadata": {},
     "output_type": "execute_result"
    }
   ],
   "source": [
    "a = ''\n",
    "for x in idx_word_seq(conclusion[0][-15:]): # print just the predicted\n",
    "    a += x\n",
    "    a += ' '\n",
    "a"
   ]
  },
  {
   "cell_type": "code",
   "execution_count": 221,
   "metadata": {},
   "outputs": [
    {
     "data": {
      "text/plain": [
       "31"
      ]
     },
     "execution_count": 221,
     "metadata": {},
     "output_type": "execute_result"
    }
   ],
   "source": [
    "len(conclusion[0])"
   ]
  },
  {
   "cell_type": "code",
   "execution_count": null,
   "metadata": {},
   "outputs": [],
   "source": []
  }
 ],
 "metadata": {
  "kernelspec": {
   "display_name": "Python 3",
   "language": "python",
   "name": "python3"
  },
  "language_info": {
   "codemirror_mode": {
    "name": "ipython",
    "version": 3
   },
   "file_extension": ".py",
   "mimetype": "text/x-python",
   "name": "python",
   "nbconvert_exporter": "python",
   "pygments_lexer": "ipython3",
   "version": "3.6.7"
  }
 },
 "nbformat": 4,
 "nbformat_minor": 2
}
